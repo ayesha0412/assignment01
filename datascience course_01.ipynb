{
 "cells": [
  {
   "cell_type": "code",
   "execution_count": 1,
   "id": "40bef572",
   "metadata": {},
   "outputs": [
    {
     "name": "stdout",
     "output_type": "stream",
     "text": [
      "Twinkle, twinkle, little star, \n",
      "\tHow I wonder what you are! \n",
      "\t\tUp above the world so high, \n",
      "\t\tLike a diamond in the sky. \n",
      "Twinkle, twinkle, little star, \n",
      "\tHow I wonder what you are!\n"
     ]
    }
   ],
   "source": [
    "# Quesdtion 01: print in the following pattern\n",
    "print(\"Twinkle, twinkle, little star, \\n\\tHow I wonder what you are! \\n\\t\\tUp above the world so high, \\n\\t\\tLike a diamond in the sky. \\nTwinkle, twinkle, little star, \\n\\tHow I wonder what you are!\")\n",
    "\n"
   ]
  },
  {
   "cell_type": "code",
   "execution_count": 14,
   "id": "eb18a35f",
   "metadata": {},
   "outputs": [
    {
     "name": "stdout",
     "output_type": "stream",
     "text": [
      "python version\n",
      "3.8.8 (default, Apr 13 2021, 15:08:03) [MSC v.1916 64 bit (AMD64)]\n",
      "version info\n",
      "sys.version_info(major=3, minor=8, micro=8, releaselevel='final', serial=0)\n"
     ]
    }
   ],
   "source": [
    "# write a program to print python version you ae using\n",
    "import sys\n",
    "print(\"python version\")\n",
    "print(sys.version)\n",
    "print(\"version info\")\n",
    "print(sys.version_info)\n"
   ]
  },
  {
   "cell_type": "code",
   "execution_count": 5,
   "id": "1d04140b",
   "metadata": {},
   "outputs": [
    {
     "name": "stdout",
     "output_type": "stream",
     "text": [
      "2022-01-02 14:23:25.540070\n"
     ]
    }
   ],
   "source": [
    "#Question 03: write a program to display current date and time\n",
    "import datetime\n",
    "Todaydate=datetime.datetime.now()\n",
    "print(Todaydate)"
   ]
  },
  {
   "cell_type": "code",
   "execution_count": 9,
   "id": "102faa69",
   "metadata": {},
   "outputs": [
    {
     "name": "stdout",
     "output_type": "stream",
     "text": [
      "Enter the radius:6\n",
      "Area of circle is: 113.04\n"
     ]
    }
   ],
   "source": [
    "#Question 04: write a program to accept radius and compute area.\n",
    "\n",
    "radius=float(input(\"Enter the radius:\"))\n",
    "area=3.14*radius**2\n",
    "print(\"Area of circle is:\",area) \n"
   ]
  },
  {
   "cell_type": "code",
   "execution_count": 10,
   "id": "10a8ccc1",
   "metadata": {},
   "outputs": [
    {
     "name": "stdout",
     "output_type": "stream",
     "text": [
      "enter the first nameImran\n",
      "enter the last nameKhan\n",
      "reversed name is : Khan Imran\n"
     ]
    }
   ],
   "source": [
    "#Question 05 accept fits and last name and print in reverse order\n",
    "fname=input(\"enter the first name\")\n",
    "lname=input(\"enter the last name\")\n",
    "reverse_name=lname +\" \"+ fname\n",
    "print(\"reversed name is :\",reverse_name)"
   ]
  },
  {
   "cell_type": "code",
   "execution_count": 12,
   "id": "13774921",
   "metadata": {},
   "outputs": [
    {
     "name": "stdout",
     "output_type": "stream",
     "text": [
      "enter the number 1 60\n",
      "enter the number 2 40\n",
      "addition of number is  100\n"
     ]
    }
   ],
   "source": [
    "#Question 06 take two number and print sum\n",
    "num1=int(input(\"enter the number 1 \"))\n",
    "num2=int(input(\"enter the number 2 \"))\n",
    "add=num1+num2\n",
    "print(\"addition of number is \",add)"
   ]
  },
  {
   "cell_type": "code",
   "execution_count": null,
   "id": "ac9fec89",
   "metadata": {},
   "outputs": [],
   "source": []
  }
 ],
 "metadata": {
  "kernelspec": {
   "display_name": "Python 3",
   "language": "python",
   "name": "python3"
  },
  "language_info": {
   "codemirror_mode": {
    "name": "ipython",
    "version": 3
   },
   "file_extension": ".py",
   "mimetype": "text/x-python",
   "name": "python",
   "nbconvert_exporter": "python",
   "pygments_lexer": "ipython3",
   "version": "3.8.8"
  }
 },
 "nbformat": 4,
 "nbformat_minor": 5
}
